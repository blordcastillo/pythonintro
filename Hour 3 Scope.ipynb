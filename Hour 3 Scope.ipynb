{
 "cells": [
  {
   "cell_type": "markdown",
   "metadata": {},
   "source": [
    "# Python Scope and Namespaces  \n",
    "This notebook is based on Section 9.2 of the [Python Tutorial](https://docs.python.org/2/tutorial/classes.html) \n",
    "  \n",
    "## Revisiting scope  \n",
    "  \n",
    "### Some Definitions\n",
    "###### \"Mind if we call you 'Bruce' to keep it clear?\" - Bruce  \n",
    " * ** Module**  \n",
    "I am going to use the word 'module' quite a bit from here on out. Basically, a module is a Python object with arbitrarily named attributes that you can use in your code. Or more simply, a module is a file of Python code.  \n",
    "  \n",
    " * **Namespace**  \n",
    "A namespace is how you translate a name to an object. (Does this remind you of symbol tables? Namespaces are implemented using symbol tables, but symbol tables are used for more than just namespaces). Namespaces can be all the built-in functions you can use in the global scope, the top level names in a module, or just the local names in a function. We can come up with many different examples of namespaces, but you just need to remember one thing:  \n",
    "There is absolutely no relation between names in different namespaces. This lets you use the same names for variables and functions in two different name spaces without python getting confused.  \n",
    "  \n",
    " * **Attribute**  \n",
    "Roughly, an attribute is any name following a dot. A attribute falls under a name space (the part before the dot). Attributes may be read-only or writable. If they are writable, you can assign values to them (e.g. ```arcpy.env.workspace = 'C:\\\\temp\\scratch.gdb'```). Writable attributes can also be deleted (though bad things might happen with ``` del arcpy.env.workspace```). Deleting removes that attribute from the namespace.  \n",
    "\n",
    "### Namespaces\n",
    "Namespaces are created at different moments and have different lifetimes. The namespace containing the built-in names is created when the Python interpreter starts up, and is **never deleted** (it has a special namespace named ```__builtin___```. The global namespace *for a module* is created when the module definition is read in; normally, module namespaces last until the interpreter quits. Statements executed at the top level of the interpreter (not inside any function) from either a script or the interactive prompt also have a special namespace called ```__main__```.  \n",
    "  \n",
    "The local namespace for a function is created when the function is called, and deleted when the function returns a value (including ```None```) or raises an exception that is not handled within the function (more on Exceptions later). If a function calls itself (recursion), each call is a new namespace.  \n",
    "\n",
    "### Scope\n",
    "Now that you have that framing, we can come up with a better definitino of scope. I scope is that part of a Python program where a specific namespace can be directly accessed. That means that a direct reference to a name or variable without the ```namespace.attribute``` form will find that name in that part of the Python program.  \n",
    "\n",
    "At any time during execution of a script, there are at least four scopes whose namespaces are directly accessible.  \n",
    "\n",
    " * The innermost scope, which is searched first, contains the local names and always exist  \n",
    " * The scopes of any functions that encloses the innermost scope (so a function that called that scope). They are searched from the inside out and contain non-local, but also non-global names  \n",
    " * The next-to-last scope contains the current module’s global names (remember that a module is basically a file of code but also includes names created at the interactive prompt)  \n",
    " * The outermost scope (searched last) is the ```__builtin__``` namespace  \n",
    "   \n",
    "When you declare a name to be ```global``` (remember our earlier example?), then all references and assignments go directly to the third scope containing the module’s global names. Otherwise, all variables found outside of the innermost scope are **read-only**. If you try to write to them, you will instead create a new variable in the innermost scope with the exact same variable name.  \n"
   ]
  },
  {
   "cell_type": "code",
   "execution_count": null,
   "metadata": {
    "collapsed": true
   },
   "outputs": [],
   "source": []
  }
 ],
 "metadata": {
  "kernelspec": {
   "display_name": "Python 2",
   "language": "python",
   "name": "python2"
  },
  "language_info": {
   "codemirror_mode": {
    "name": "ipython",
    "version": 2
   },
   "file_extension": ".py",
   "mimetype": "text/x-python",
   "name": "python",
   "nbconvert_exporter": "python",
   "pygments_lexer": "ipython2",
   "version": "2.7.11"
  }
 },
 "nbformat": 4,
 "nbformat_minor": 0
}
