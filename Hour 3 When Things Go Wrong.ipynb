{
 "cells": [
  {
   "cell_type": "markdown",
   "metadata": {},
   "source": [
    "# When Things Go Wrong\n",
    "(Based on the [Errors and Exceptions tutorial](https://docs.python.org/2/tutorial/errors.html))  \n",
    "  \n",
    "## Syntax Errors \n",
    "([Section 8.1](https://docs.python.org/2/tutorial/errors.html#syntax-errors))  \n",
    "  \n",
    "While a good IDE will help avoid them, get used to seeing syntax errors.  "
   ]
  },
  {
   "cell_type": "code",
   "execution_count": null,
   "metadata": {
    "collapsed": true
   },
   "outputs": [],
   "source": [
    "while True print 'Hello world'"
   ]
  },
  {
   "cell_type": "markdown",
   "metadata": {},
   "source": [
    "When you make a syntax error, the parser repeats the offending line and displays a little ‘arrow’ pointing at the earliest point in the line where the error was detected. The error is caused by (or at least detected at) the token preceding the arrow, in this case a missing colon. Realize though that \"before\" can sometimes be deceptive when you are trying to find that missing closing parenthesis or quote mark.  \n",
    "\n",
    "## Exceptions\n",
    "([Section 8.2](https://docs.python.org/2/tutorial/errors.html#exceptions))  \n",
    "  \n",
    "Much more common, and more difficult to fix, are syntactically correct statements that execute incorrectly in some way. These errors only occur during execution of the code, and are called **exceptions**. At first, all of your exceptions will be \"fatal\"; they will cause the program to stop executing an exit out. But they do not have to be fatal. You can \"handle\" the exception in a way that allows the program to continue running.  (Or at least get some useful debugging information out of your code before it exits.)  \n",
    "  \n",
    "### Let's make some exceptions  "
   ]
  },
  {
   "cell_type": "code",
   "execution_count": null,
   "metadata": {
    "collapsed": true
   },
   "outputs": [],
   "source": [
    "10 * (1/0)"
   ]
  },
  {
   "cell_type": "code",
   "execution_count": null,
   "metadata": {
    "collapsed": true
   },
   "outputs": [],
   "source": [
    "4 + spam*3"
   ]
  },
  {
   "cell_type": "code",
   "execution_count": null,
   "metadata": {
    "collapsed": true
   },
   "outputs": [],
   "source": [
    "'2' + 2"
   ]
  },
  {
   "cell_type": "markdown",
   "metadata": {},
   "source": [
    "The last line of the error message indicates what happened. Exceptions come in different types, and the type is printed as part of the message. The string printed as the exception type is the name of the built-in exception that occurred. This is true for all built-in exceptions, but modules can define their own custom exceptions as well (```arcpy``` has a lot of these, and some are rather mysterious).  \n",
    "The rest of the line provides detail based on the type of exception and what caused it.  \n",
    "  \n",
    "The part preceding the error message is called the \"traceback\" and shows detail of where the exception happened. If the exception was at the bottom of a long chain of function calls, this can be rather lengthy.  \n",
    "  \n",
    "The python.org site maintains a [list of all of the current Built-in Exception and their meanings](https://docs.python.org/2/library/exceptions.html#bltin-exceptions).  \n",
    "  \n",
    "## Handling Exceptions  \n",
    "([Section 8.3](https://docs.python.org/2/tutorial/errors.html#handling-exceptions))  \n",
    "  \n",
    "It is possible to write programs that handle specific exceptions (you should never generically handle *all* exceptions or you can hide serious problems with your code). Look at the following example, which asks the user for input until a valid integer has been entered, but allows the user to interrupt the program (using Control-C or whatever the operating system supports); note that a user-generated interruption is signalled by raising the KeyboardInterrupt exception.\n",
    "In this example, the program will loop on a bad value until it gets a valid integer.  But, you can introduce on unexpected exception by interrupting the program. Normally you do this with Cntl+C, but in jupyter you can select Interrupt from the Kernel menu.  "
   ]
  },
  {
   "cell_type": "code",
   "execution_count": null,
   "metadata": {
    "collapsed": false
   },
   "outputs": [],
   "source": [
    "while True:\n",
    "    try:\n",
    "        x = int(raw_input(\"Please enter a number: \"))\n",
    "        break\n",
    "    except ValueError:\n",
    "        print \"Oops!  That was no valid number.  Try again...\""
   ]
  },
  {
   "cell_type": "markdown",
   "metadata": {
    "collapsed": true
   },
   "source": [
    "This demonstrates a structure known as a try...except. It has a try clause, the indented section underneath try, and an except clause, the indented section underneath except.  \n",
    "When a try is encountered, the code in the try clause is executed until an exception is encountered. If no exception occurs (which is what you hope happens most of the time), then the whole clause executes and *the except clause is skipped completely*.  \n",
    "What if you do hit an exception? What happens next depends on the type of the exception. If the type matches the exception type, if the exception is a ```ValueError``` in our example, then the code exits the try claue and skips the rest of the statements in the try clause. It then immediately jumps to the matching except clause and executes the statements in there.  \n",
    "You can have more than one except clause for your try clause, as long as you do not repeat exception types.  \n",
    "```python\n",
    "while True:\n",
    "    try:\n",
    "        x = int(raw_input(\"Please enter a number: \"))\n",
    "        break\n",
    "    except ValueError:\n",
    "        print \"Oops!  That was no valid number.  Try again...\"\n",
    "    except NameError:\n",
    "        print \"Someone you accessed a variable that does not exist.\"\n",
    "    except RuntimeError:\n",
    "        print \"Something went wrong that python does not understand.\"\n",
    "    # Note: These are all very bad exception handlers since they make it hard to know what went wrong.  \n",
    "```\n",
    "You can also use a tuple in an except clause so that it matches multiple types.  \n",
    "```python\n",
    "while True:\n",
    "    try:\n",
    "        x = int(raw_input(\"Please enter a number: \"))\n",
    "        break\n",
    "    except ValueError:\n",
    "        print \"Oops!  That was no valid number.  Try again...\"\n",
    "    except (RuntimeError, TypeError, NameError):\n",
    "        print \"Something bad happened, but we can keep going. Try another number.\"  \n",
    "```\n",
    "While the last except clause can omit exception names and act as a wildcard:  \n",
    "```python\n",
    "try:\n",
    "    ...\n",
    "except:\n",
    "    ....\n",
    "```\n",
    "as mentioned earlier this is generally a bad practice. Use this only with extreme caution, since it is easy to mask a real programming error in this way!  \n",
    "A better practice is to use the last except to print an error message and then 're-raise' the exception (allowing the next scope up to handle the exception as well)\n",
    "```python\n",
    "import sys\n",
    "\n",
    "try:\n",
    "    f = open('myfile.txt')\n",
    "    s = f.readline()\n",
    "    i = int(s.strip())\n",
    "except IOError as e:\n",
    "    print \"I/O error({0}): {1}\".format(e.errno, e.strerror)\n",
    "except ValueError:\n",
    "    print \"Could not convert data to an integer.\"\n",
    "except:\n",
    "    print \"Unexpected error:\", sys.exc_info()[0]\n",
    "    raise\n",
    "```\n",
    "There are additional options of an 'else' clause and a 'finally' clause that you can use to handle certain alternative cases to just a try and except.  \n"
   ]
  },
  {
   "cell_type": "code",
   "execution_count": null,
   "metadata": {
    "collapsed": true
   },
   "outputs": [],
   "source": []
  }
 ],
 "metadata": {
  "kernelspec": {
   "display_name": "Python 2",
   "language": "python",
   "name": "python2"
  },
  "language_info": {
   "codemirror_mode": {
    "name": "ipython",
    "version": 2
   },
   "file_extension": ".py",
   "mimetype": "text/x-python",
   "name": "python",
   "nbconvert_exporter": "python",
   "pygments_lexer": "ipython2",
   "version": "2.7.11"
  }
 },
 "nbformat": 4,
 "nbformat_minor": 0
}
