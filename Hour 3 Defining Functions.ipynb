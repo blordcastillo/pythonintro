{
 "cells": [
  {
   "cell_type": "markdown",
   "metadata": {},
   "source": [
    "# Defining Functions\n",
    "(Based on sections 4.6 to 4.7.3 of the [More Control Flow Tools tutorial](https://docs.python.org/2/tutorial/controlflow.html#defining-functions))  \n",
    "  \n",
    "Let's go back to our Fibonacci calculator from before. This time, we are going to create a reusable function.  \n",
    "  \n",
    "First, we cheat by starting with an already made function:  "
   ]
  },
  {
   "cell_type": "code",
   "execution_count": null,
   "metadata": {
    "collapsed": true
   },
   "outputs": [],
   "source": [
    "def fib(n):    # write Fibonacci series up to n\n",
    "    \"\"\"Print a Fibonacci series up to n.\"\"\"\n",
    "    a, b = 0, 1\n",
    "    while a < n:\n",
    "        print a,\n",
    "        a, b = b, a+b"
   ]
  },
  {
   "cell_type": "code",
   "execution_count": null,
   "metadata": {
    "collapsed": false
   },
   "outputs": [],
   "source": [
    "fib(2000) #Here we call our function"
   ]
  },
  {
   "cell_type": "markdown",
   "metadata": {},
   "source": [
    "## The anatomy of a function  \n",
    "So what is going on here?  \n",
    "First is the keyword ```def```. This stands for define, and means we are defining a function. The keyword must be followed by the function name and then a set of parenthesis containing all the parameters (arguments) of the function. The statements that form the body of the function start at the next line, and *must* be indented. The first unindented line (or the end of the file) marks the end of the function.  \n",
    "  \n",
    "Now, that first line of the function. Look familiar? It is just a string. This is an option you have to supply a \"string literal\" to document the string. Creatively, this is called a docstring. There are all sorts of standards for docstrings (I like the sphinx standard), but you can use this however you want. Just get in the habit of writing a docstring so you know what your function does.  \n",
    "  \n",
    "How do you get to the docstrings? Ask for help!  "
   ]
  },
  {
   "cell_type": "code",
   "execution_count": null,
   "metadata": {
    "collapsed": false
   },
   "outputs": [],
   "source": [
    "help(fib)"
   ]
  },
  {
   "cell_type": "markdown",
   "metadata": {},
   "source": [
    "## Scope  \n",
    "When you start a function, you create something called a symbol table. This is our first exploration of a concept called 'scope'. Variables, functions, even classes exist within certain scopes. They can be seen inside their own scope, and can see anything within their scope or containing their scope.  \n",
    "Confused?  \n",
    "When we are entering things directly into the interpreter, we are working in the ```global``` scope.  \n",
    "When we do this:  "
   ]
  },
  {
   "cell_type": "code",
   "execution_count": null,
   "metadata": {
    "collapsed": true
   },
   "outputs": [],
   "source": [
    "x = 0"
   ]
  },
  {
   "cell_type": "markdown",
   "metadata": {},
   "source": [
    "We just added the variable 'x' to the global symbol table. 'x' now represents a piece of memory where we have stored a value, in this case the number 0. Unlike other languages, python has duck typing.  \n",
    "**If it looks like a duck, swims like a duck, and quacks like a duck, then it probably is a duck.**  \n",
    "'x' can be anything we want."
   ]
  },
  {
   "cell_type": "code",
   "execution_count": null,
   "metadata": {
    "collapsed": true
   },
   "outputs": [],
   "source": [
    "x = 'b'"
   ]
  },
  {
   "cell_type": "code",
   "execution_count": null,
   "metadata": {
    "collapsed": true
   },
   "outputs": [],
   "source": [
    "x = [0, 'def']"
   ]
  },
  {
   "cell_type": "code",
   "execution_count": null,
   "metadata": {
    "collapsed": true
   },
   "outputs": [],
   "source": [
    "x = True"
   ]
  },
  {
   "cell_type": "markdown",
   "metadata": {},
   "source": [
    "'x' can even be nothing.  "
   ]
  },
  {
   "cell_type": "code",
   "execution_count": null,
   "metadata": {
    "collapsed": true
   },
   "outputs": [],
   "source": [
    "x = None"
   ]
  },
  {
   "cell_type": "markdown",
   "metadata": {},
   "source": [
    "So, the global symbol table tells us where x is pointing to so that your code can retrieve and use whatever is stored in x.  \n",
    "Back to scope.  \n",
    "We have a lot of variables we used in our fibonacci function. What happens when we try to get to those?  "
   ]
  },
  {
   "cell_type": "code",
   "execution_count": null,
   "metadata": {
    "collapsed": false
   },
   "outputs": [],
   "source": [
    "n"
   ]
  },
  {
   "cell_type": "code",
   "execution_count": null,
   "metadata": {
    "collapsed": true
   },
   "outputs": [],
   "source": [
    "a"
   ]
  },
  {
   "cell_type": "code",
   "execution_count": null,
   "metadata": {
    "collapsed": true
   },
   "outputs": [],
   "source": [
    "b"
   ]
  },
  {
   "cell_type": "markdown",
   "metadata": {},
   "source": [
    "Oh, that did not go very well. There is a reason for that. All of those variables are *not* in the global scope. Instead, they are in the function scope for fibonacci. fibonacci has its own symbol table that is available only to code inside of the fibonacci function. Inside the fibonacci function, we can look up these variables and find their value. Outside, we can't.  \n",
    "Then, there is this:  "
   ]
  },
  {
   "cell_type": "code",
   "execution_count": null,
   "metadata": {
    "collapsed": true
   },
   "outputs": [],
   "source": [
    "def printx():\n",
    "    global x\n",
    "    print x"
   ]
  },
  {
   "cell_type": "code",
   "execution_count": null,
   "metadata": {
    "collapsed": true
   },
   "outputs": [],
   "source": [
    "x = 'I am global x'\n",
    "printx()"
   ]
  },
  {
   "cell_type": "code",
   "execution_count": null,
   "metadata": {
    "collapsed": true
   },
   "outputs": [],
   "source": [
    "x = 'I am the new global x'\n",
    "printx()"
   ]
  },
  {
   "cell_type": "markdown",
   "metadata": {},
   "source": [
    "What's going on here? The statement ```global x``` does something special. It goes to the global symbol table (the scope outside of the function, and looks up x there. It makes a small piece of the global scope available inside the function. A warning though, when you use the global statement, you allow the function to change the global variable! This could be bad for other functions ..."
   ]
  },
  {
   "cell_type": "code",
   "execution_count": null,
   "metadata": {
    "collapsed": true
   },
   "outputs": [],
   "source": [
    "def change_x():\n",
    "    global x\n",
    "    x = x + 1"
   ]
  },
  {
   "cell_type": "code",
   "execution_count": null,
   "metadata": {
    "collapsed": false
   },
   "outputs": [],
   "source": [
    "x = 4\n",
    "print(x)\n",
    "change_x()\n",
    "print(x)"
   ]
  },
  {
   "cell_type": "markdown",
   "metadata": {},
   "source": [
    "## Functions are 'symbols' too\n",
    "More on scope later. Now back to our function.  \n",
    "  \n",
    "As you might have already noticed, the 'arguments' of the function become available inside the function. You give fib a value as an argument, and that value is assigned to n *inside* the function.  \n",
    "And for your inception moment, functions exist as variables in the global symbol table!  \n",
    "That means you can assign them to yet another variable.  "
   ]
  },
  {
   "cell_type": "code",
   "execution_count": null,
   "metadata": {
    "collapsed": true
   },
   "outputs": [],
   "source": [
    "fib"
   ]
  },
  {
   "cell_type": "code",
   "execution_count": null,
   "metadata": {
    "collapsed": true
   },
   "outputs": [],
   "source": [
    "f = fib\n",
    "f"
   ]
  },
  {
   "cell_type": "code",
   "execution_count": null,
   "metadata": {
    "collapsed": true
   },
   "outputs": [],
   "source": [
    "f(100)"
   ]
  },
  {
   "cell_type": "markdown",
   "metadata": {},
   "source": [
    "## ```return```\n",
    "So, what happens if you want to get back one of those variables from inside the function, instead of just printing your result? That is where ```return``` comes into play. In practice, most python functions have a return value. If it does not, it still returns a nothing object called ```None```.  \n",
    "You can see this special value by printing the function.  "
   ]
  },
  {
   "cell_type": "code",
   "execution_count": null,
   "metadata": {
    "collapsed": true
   },
   "outputs": [],
   "source": [
    "print fib(100)"
   ]
  },
  {
   "cell_type": "markdown",
   "metadata": {},
   "source": [
    "Let's say we want to get back the entire sequence created by the function. Remeber lists? They are great for this purpose. We can take advantage of ```return``` to get that sequence back out.  "
   ]
  },
  {
   "cell_type": "code",
   "execution_count": null,
   "metadata": {
    "collapsed": true
   },
   "outputs": [],
   "source": [
    "def fib2(n): # return Fibonacci series up to n\n",
    "    \"\"\"Return a list containing the Fibonacci series up to n.\"\"\"\n",
    "    result = []          # Start with an empty list\n",
    "    a, b = 0, 1          # Start the sequence\n",
    "    while a < n:         # While we are below our limit....\n",
    "        result.append(a) # Add the next value to the list instead of printing it!  \n",
    "        a, b = b, a+b    # Make the next value\n",
    "    return result        #And here is the tricky part.... we send the list back out of the function"
   ]
  },
  {
   "cell_type": "code",
   "execution_count": null,
   "metadata": {
    "collapsed": true
   },
   "outputs": [],
   "source": [
    "f100 = fib2(100)    # Call the function"
   ]
  },
  {
   "cell_type": "code",
   "execution_count": null,
   "metadata": {
    "collapsed": true
   },
   "outputs": [],
   "source": [
    "f100                # Write the result"
   ]
  },
  {
   "cell_type": "markdown",
   "metadata": {},
   "source": [
    "Especially when you start working in stand alone scripts that need to accept input, write outputs, and keep logs, you will rely more and more on functions which return values and data structures rather than just observing your results with print statements."
   ]
  },
  {
   "cell_type": "markdown",
   "metadata": {},
   "source": [
    "## More on Defining Functions\n",
    "What if you need several different inputs, like both a list of raster images and a set of points that you want to use to sample the rasters? That is where you start defining functions with multiple arguments !  \n",
    "  \n",
    "### Multiple arguments\n",
    "First, a simple scenario with multiple arguments."
   ]
  },
  {
   "cell_type": "code",
   "execution_count": null,
   "metadata": {
    "collapsed": true
   },
   "outputs": [],
   "source": [
    "def ask_ok(prompt, retries, complaint):\n",
    "    while True:\n",
    "        ok = raw_input(prompt)\n",
    "        if ok in ('y', 'ye', 'yes'):\n",
    "            return True\n",
    "        if ok in ('n', 'no', 'nop', 'nope'):\n",
    "            return False\n",
    "        retries = retries - 1\n",
    "        if retries < 0:\n",
    "            raise IOError('refusenik user')\n",
    "        print complaint"
   ]
  },
  {
   "cell_type": "code",
   "execution_count": null,
   "metadata": {
    "collapsed": true
   },
   "outputs": [],
   "source": [
    "ask_ok(\"Is this the right room for an argument?\", 3, \"You haven't told me!\")"
   ]
  },
  {
   "cell_type": "markdown",
   "metadata": {},
   "source": [
    "### And now for something completely different  (variable number of arguments)  \n",
    "  \n",
    "You can define a function with a variable number of arguments too! There are three patterns for this.  \n",
    "#### Pattern 1: The Larch  \n",
    "What I mean is, well.... If I have not told you about the python tradition yet, I should here.  \n",
    "  \n",
    "#### Pattern 1: Default Argument Values  \n",
    "The most useful form for variable numbers of arguments is to specify a default value for one or more arguments. This essentially lets yo skip arguments.  "
   ]
  },
  {
   "cell_type": "code",
   "execution_count": null,
   "metadata": {
    "collapsed": true
   },
   "outputs": [],
   "source": [
    "def ask_ok(prompt, retries=4, complaint='Yes or no!'):\n",
    "    while True:\n",
    "        ok = raw_input(prompt)\n",
    "        if ok in ('y', 'ye', 'yes'):\n",
    "            return True\n",
    "        if ok in ('n', 'no', 'nop', 'nope'):\n",
    "            return False\n",
    "        retries = retries - 1\n",
    "        if retries < 0:\n",
    "            raise IOError('refusenik user')\n",
    "        print complaint"
   ]
  },
  {
   "cell_type": "markdown",
   "metadata": {},
   "source": [
    "Now you can call the function with only the mandatory argument"
   ]
  },
  {
   "cell_type": "code",
   "execution_count": null,
   "metadata": {
    "collapsed": true
   },
   "outputs": [],
   "source": [
    "ask_ok(\"Do you want me or not, James? It's your decision.\")"
   ]
  },
  {
   "cell_type": "markdown",
   "metadata": {},
   "source": [
    "Or you can supply the first optional argument"
   ]
  },
  {
   "cell_type": "code",
   "execution_count": null,
   "metadata": {
    "collapsed": true
   },
   "outputs": [],
   "source": [
    "ask_ok(\"Do you like Tizer?\", 2)"
   ]
  },
  {
   "cell_type": "markdown",
   "metadata": {},
   "source": [
    "Our you can just ignore the defaults and give all your own arguments again!"
   ]
  },
  {
   "cell_type": "code",
   "execution_count": null,
   "metadata": {
    "collapsed": true
   },
   "outputs": [],
   "source": [
    "ask_ok(\"Is this the right room for an argument?\", 3, \"You haven't told me!\")"
   ]
  },
  {
   "cell_type": "markdown",
   "metadata": {},
   "source": [
    "One weird thing with defaults. At the time when you define the function, the defaults are 'evaluated'. The values of the defaults become fixed even if you are using a global variable to define them. Before you run this sequence, what do you think ```f()``` will print?"
   ]
  },
  {
   "cell_type": "code",
   "execution_count": null,
   "metadata": {
    "collapsed": true
   },
   "outputs": [],
   "source": [
    "i = 5\n",
    "\n",
    "def f(arg=i):\n",
    "    print arg\n",
    "\n",
    "i = 6\n",
    "f()"
   ]
  },
  {
   "cell_type": "markdown",
   "metadata": {},
   "source": [
    "This creates some surprising behavior though when you default is a mutable object! More on that later, but remember that strings are immutable while lists are mutable. So, let's supply a list.  "
   ]
  },
  {
   "cell_type": "code",
   "execution_count": null,
   "metadata": {
    "collapsed": true
   },
   "outputs": [],
   "source": [
    "def f(a, L=[]):\n",
    "    L.append(a)\n",
    "    return L\n",
    "print f(1)\n",
    "print f(2)\n",
    "print f(3)"
   ]
  },
  {
   "cell_type": "markdown",
   "metadata": {},
   "source": [
    "What happened here? Well, our default evaluated only once, but that evaulation was to a mutable list object! If you thought you would get an empty list every time you call ```f()```, you made a mistake (\"No I didn't!\" \"Yes you did!\"). Instead, since the default argument evaluates only once, you always have the exact same list, even if it already has something in it!\n",
    "\n",
    "If you don’t want the default to be shared between subsequent calls, you can write the function like this instead:"
   ]
  },
  {
   "cell_type": "code",
   "execution_count": null,
   "metadata": {
    "collapsed": true
   },
   "outputs": [],
   "source": [
    "def f(a, L=None):\n",
    "    if L is None:\n",
    "        L = []\n",
    "    L.append(a)\n",
    "    return L\n",
    "print f(1)\n",
    "print f(2)\n",
    "print f(3)\n",
    "\n",
    "print f(3, L=f(2, L=f(1))) # That's right, I called a function with the return value of a function!"
   ]
  },
  {
   "cell_type": "markdown",
   "metadata": {},
   "source": [
    "#### Pattern 2: The Larch  \n",
    "...  \n",
    "#### Pattern 2: Keyword Arguments\n",
    "Functions can also be called using keyword arguments of the form ```kwarg=value```."
   ]
  },
  {
   "cell_type": "code",
   "execution_count": null,
   "metadata": {
    "collapsed": true
   },
   "outputs": [],
   "source": [
    "def parrot(voltage, state='a stiff', action='voom', type='Norwegian Blue'):\n",
    "    print \"-- This parrot wouldn't\", action,\n",
    "    print \"if you put\", voltage, \"volts through it.\"\n",
    "    print \"-- Lovely plumage, the\", type\n",
    "    print \"-- It's\", state, \"!\""
   ]
  },
  {
   "cell_type": "markdown",
   "metadata": {},
   "source": [
    "The function ```parrot``` accepts one required argument (voltage) and three optional arguments (state, action, and type). This function can be called in any of the following ways:"
   ]
  },
  {
   "cell_type": "code",
   "execution_count": null,
   "metadata": {
    "collapsed": true
   },
   "outputs": [],
   "source": [
    "parrot(1000)                                          # 1 positional argument"
   ]
  },
  {
   "cell_type": "code",
   "execution_count": null,
   "metadata": {
    "collapsed": true
   },
   "outputs": [],
   "source": [
    "parrot(voltage=1000)                                  # 1 keyword argument"
   ]
  },
  {
   "cell_type": "code",
   "execution_count": null,
   "metadata": {
    "collapsed": true
   },
   "outputs": [],
   "source": [
    "parrot(voltage=1000000, action='VOOOOOM')             # 2 keyword arguments"
   ]
  },
  {
   "cell_type": "code",
   "execution_count": null,
   "metadata": {
    "collapsed": true
   },
   "outputs": [],
   "source": [
    "parrot(action='VOOOOOM', voltage=1000000)             # 2 keyword arguments"
   ]
  },
  {
   "cell_type": "code",
   "execution_count": null,
   "metadata": {
    "collapsed": true
   },
   "outputs": [],
   "source": [
    "parrot('a million', 'bereft of life', 'jump')         # 3 positional arguments"
   ]
  },
  {
   "cell_type": "code",
   "execution_count": null,
   "metadata": {
    "collapsed": true
   },
   "outputs": [],
   "source": [
    "parrot('a thousand', state='pushing up the daisies')  # 1 positional, 1 keyword"
   ]
  },
  {
   "cell_type": "markdown",
   "metadata": {},
   "source": [
    "But all the following calls will fail."
   ]
  },
  {
   "cell_type": "code",
   "execution_count": null,
   "metadata": {
    "collapsed": true
   },
   "outputs": [],
   "source": [
    "parrot()                     # required argument missing"
   ]
  },
  {
   "cell_type": "code",
   "execution_count": null,
   "metadata": {
    "collapsed": true
   },
   "outputs": [],
   "source": [
    "parrot(voltage=5.0, 'dead')  # non-keyword argument after a keyword argument"
   ]
  },
  {
   "cell_type": "code",
   "execution_count": null,
   "metadata": {
    "collapsed": true
   },
   "outputs": [],
   "source": [
    "parrot(110, voltage=220)     # duplicate value for the same argument"
   ]
  },
  {
   "cell_type": "code",
   "execution_count": null,
   "metadata": {
    "collapsed": true
   },
   "outputs": [],
   "source": [
    "parrot(actor='John Cleese')  # unknown keyword argument"
   ]
  },
  {
   "cell_type": "markdown",
   "metadata": {},
   "source": [
    "If you use keyword arguments to call a function, they must follow are arguments without keywords. All the keyword arguments passed must match one of the arguments accepted by the function (e.g. actor is not a valid argument for the parrot function), and their order is not important. You can use keywords to call arguments without defaults too, like ```parrot(voltage=1000)```. No argument may receive a value more than once.  \n",
    "  \n",
    "You can also use the ```**kwargs``` pattern (keyword arguments). You can actually use any name as long as it is preceded by two asterisks, but traditional style is to use ```**kwargs```.  \n",
    "The easiest way to explain kwargs is with an example.  "
   ]
  },
  {
   "cell_type": "code",
   "execution_count": null,
   "metadata": {
    "collapsed": true
   },
   "outputs": [],
   "source": [
    "def cheeseshop(kind, *args, **kwargs):\n",
    "    print \"-- Do you have any\", kind, \"?\"\n",
    "    print \"-- I'm sorry, we're all out of\", kind\n",
    "    for arg in args:\n",
    "        print arg\n",
    "    print \"-\" * 40\n",
    "    keys = sorted(kwargs.keys())\n",
    "    for kw in keys:\n",
    "        print kw, \":\", kwargs[kw]"
   ]
  },
  {
   "cell_type": "markdown",
   "metadata": {},
   "source": [
    "(```*args``` is explained below this section.)  \n",
    "So now, you can make a call like this:  "
   ]
  },
  {
   "cell_type": "code",
   "execution_count": null,
   "metadata": {
    "collapsed": true
   },
   "outputs": [],
   "source": [
    "cheeseshop(\"Limburger\", \"It's very runny, sir.\",\n",
    "           \"It's really very, VERY runny, sir.\",\n",
    "           shopkeeper='Michael Palin',\n",
    "           client=\"John Cleese\",\n",
    "           sketch=\"Cheese Shop Sketch\")"
   ]
  },
  {
   "cell_type": "markdown",
   "metadata": {},
   "source": [
    "Note that we had to sert the keywords to get them to print in alphabetical order. Otherwise, there is no guaranteed order of the keys regardless of what order you put in the keywords. Under the hood, the function is receiving a dictionary that looks like this:  \n",
    "```python\n",
    "{\n",
    "    'shopkeeper': 'Michael Palin',\n",
    "    'client': \"John Cleese\",\n",
    "    'sketch': \"Cheese Shop Sketch\"\n",
    "}\n",
    "```\n",
    "\n",
    "#### Pattern 4: Arbitrary Argument Lists  \n",
    "Finally, the least frequently used option is to specify that a function can be called with an arbitrary number of arguments, commonly called ```*args```. Whereas ```**kwargs``` passes in a dictionary, ```*args``` passes in a tuple.  Like kwargs, you can use any name as long as it starts with a single asterisk, ```*args``` is just the traditional style. Before the variable number of arguments, zero or more normal arguments may occur. Here is a non-running example:  \n",
    "```python\n",
    "def write_multiple_items(file, separator, *args):\n",
    "    file.write(separator.join(args))\n",
    "```\n",
    "One last note, ```*args``` must always precede ```**kwargs```. You will get an error when you create your function definition if you reference them.  "
   ]
  },
  {
   "cell_type": "code",
   "execution_count": null,
   "metadata": {
    "collapsed": true
   },
   "outputs": [],
   "source": []
  }
 ],
 "metadata": {
  "kernelspec": {
   "display_name": "Python 2",
   "language": "python",
   "name": "python2"
  },
  "language_info": {
   "codemirror_mode": {
    "name": "ipython",
    "version": 2
   },
   "file_extension": ".py",
   "mimetype": "text/x-python",
   "name": "python",
   "nbconvert_exporter": "python",
   "pygments_lexer": "ipython2",
   "version": "2.7.11"
  }
 },
 "nbformat": 4,
 "nbformat_minor": 0
}
