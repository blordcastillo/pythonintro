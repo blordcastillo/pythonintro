{
 "cells": [
  {
   "cell_type": "markdown",
   "metadata": {},
   "source": [
    "# Toying with Jupyter"
   ]
  },
  {
   "cell_type": "markdown",
   "metadata": {},
   "source": [
    "First, let's start where any good exploration of a new language starts, with your ```hello world```. Notice this looks a little different from \"One Day of IDLE Toying\" because ```\"hello world\"``` is surrounded by parentheses. Python 2 allows you to use a ```print``` statement by itself, but in Python 3, we have to use it as a \"function\". More on this later. Just realize that using parentheses for your ```print``` statement is a better practice."
   ]
  },
  {
   "cell_type": "markdown",
   "metadata": {},
   "source": [
    "In this space below, type: ```print(\"hello world\")```. Then choose \"Run Cells\" from the \"Cell\" menu (or click on the run cell button)."
   ]
  },
  {
   "cell_type": "code",
   "execution_count": null,
   "metadata": {
    "collapsed": false
   },
   "outputs": [],
   "source": [
    "Overwrite me and type your code here"
   ]
  },
  {
   "cell_type": "markdown",
   "metadata": {},
   "source": [
    "Now you can try running through some of the other commands you used before, this time executing each one on their own in a \"cell\" in this notebook. (You can copy-paste if you want, but it is more fun to do on your own, honest.)"
   ]
  },
  {
   "cell_type": "markdown",
   "metadata": {},
   "source": [
    "```python\n",
    "print(\"Here are the numbers from 0 to 9\")```"
   ]
  },
  {
   "cell_type": "code",
   "execution_count": null,
   "metadata": {
    "collapsed": false
   },
   "outputs": [],
   "source": [
    "Code goes here. Remember to run the cell when you are done."
   ]
  },
  {
   "cell_type": "markdown",
   "metadata": {},
   "source": [
    "```python\n",
    "for i in range(10):\n",
    "    print(i),```"
   ]
  },
  {
   "cell_type": "code",
   "execution_count": null,
   "metadata": {
    "collapsed": false
   },
   "outputs": [],
   "source": [
    "You know the drill by now"
   ]
  },
  {
   "cell_type": "markdown",
   "metadata": {},
   "source": [
    "Unlike when you used the interactive interpreter in IDLE, you can string together several commands at once without creating a .py file.\n",
    "\n",
    "This time I wrote your code for you. Try just clicking on the cell below and then running the cell."
   ]
  },
  {
   "cell_type": "code",
   "execution_count": null,
   "metadata": {
    "collapsed": false
   },
   "outputs": [],
   "source": [
    "print(\"hello world\")\n",
    "print(\"Here are the numbers from 0 to 9\")\n",
    "for i in range(10):\n",
    "    print(i),\n",
    "print(\"I'm Done\")"
   ]
  },
  {
   "cell_type": "code",
   "execution_count": null,
   "metadata": {
    "collapsed": true
   },
   "outputs": [],
   "source": []
  }
 ],
 "metadata": {
  "kernelspec": {
   "display_name": "Python 2",
   "language": "python",
   "name": "python2"
  },
  "language_info": {
   "codemirror_mode": {
    "name": "ipython",
    "version": 2
   },
   "file_extension": ".py",
   "mimetype": "text/x-python",
   "name": "python",
   "nbconvert_exporter": "python",
   "pygments_lexer": "ipython2",
   "version": "2.7.11"
  }
 },
 "nbformat": 4,
 "nbformat_minor": 0
}
