{
 "cells": [
  {
   "cell_type": "markdown",
   "metadata": {},
   "source": [
    "# Introductory Geoprocessing with Python\n",
    "This course will get you up and running with python in four sections. We still start with installation, including installation with ArcGIS, integrated development environments (IDEs) and where to find more help. Next, we will cover basic syntax, import statements, writing functions, and adding additional libraries and site packages to your installation. For the third section of the class, we will dive into python programming basics: variables, scopes, datatypes, flow control, debugging, and error handling. The class will wrap up by covering common data structures and an introduction to libraries with the widely used os and datetime modules. You should have a very basic understanding of script writing, as we will be up and running with our own scripts by the end of the class. Knowledge of basic flow control (if-then-else, for loops, while loops) is recommended. \n",
    "  \n",
    "  \n",
    "## Hour One - This new learning amazes me, Sir Bedevere.  \n",
    "###### \"Explain again how sheep's bladders may be employed to prevent earthquakes.\"  \n",
    "  \n",
    "### Installing to develop  \n",
    "Many ideas for this section come from the [Hitchhiker's Guide to Python](http://docs.python-guide.org/en/latest/starting/installation/)  \n",
    "  \n",
    "#### Some good points  \n",
    " * Don't use the default install  \n",
    "   * Link to ArcGIS (the magic .pth file)  \n",
    "   * The Esri numpy warning  \n",
    "   * Use Virtual Environments  \n",
    "   * On Mac OS, use homebrew python (see more at [Hitchhiker's Guide](http://docs.python-guide.org/en/latest/starting/install/osx/#install-osx))  \n",
    " * Do use an IDE\n",
    " * Hey, there's thing thing called [Python 3](http://docs.python-guide.org/en/latest/starting/which-python/)\n",
    "   \n",
    "#### Where to get Python:\n",
    " * [Python.org](http://www.python.org/download/)\n",
    " * [Anaconda](https://www.continuum.io/downloads)\n",
    " * [IronPython](http://ironpython.codeplex.com/) (Python on .Net)  \n",
    " * And [many other options](https://www.python.org/download/alternatives/)  \n",
    "  \n",
    "#### Places to get help\n",
    " * [Python Docs](http://docs.python.org/2/contents.html)\n",
    " * [Python Tutorial](http://docs.python.org/2/tutorial/)\n",
    " * [Python Language Reference](http://docs.python.org/2/reference/index.html)\n",
    " * [Hitchhiker's Guide to Python](http://docs.python-guide.org/en/latest/)  \n",
    " * [HGtoP Code Style Guide](http://docs.python-guide.org/en/latest/writing/style/)  \n",
    "\n",
    "### IDE introduction: We will use ~~IDLE~~ Jupyter! (It's not really an IDE)  \n",
    " * [The IDE List](http://wiki.python.org/moin/IntegratedDevelopmentEnvironments) (I like [PyCharm](https://www.jetbrains.com/pycharm/))  \n",
    " * [An Epic Answer on StackExchange exploring IDEs](http://stackoverflow.com/questions/81584/what-ide-to-use-for-python)  \n",
    " * [One Day of IDLE Toying](https://hkn.eecs.berkeley.edu/~dyoo/python/idle_intro/index.html)  \n",
    " * [Toying with Jupyter](http://localhost:8888/notebooks/Toying%20with%20Jupyter.ipynb)  \n",
    "  \n",
    "### virtualenv, setuptools, pip, conda, and pypi\n",
    " * Using Windows? [You owe Christoph Gohlke a beer](http://www.lfd.uci.edu/~gohlke/pythonlibs/)  \n",
    " * Use a package manager  \n",
    "   * Package managers rely on ```setuptools```  \n",
    "   * Do you have Anaconda? Use ```conda```  \n",
    "   * Have something else? Use ```pip```  \n",
    " * Find packages (and get their versions and history) on the [Python Package Index (PyPI)](https://pypi.python.org/)\n",
    "   \n",
    "## Hour Two - That's enough music for now, lads... looks like there's dirty work afoot.\n",
    " * Notebook: [An Informal Introduction to Python](http://localhost:8888/notebooks/Hour%202%20Informal%20Introduction.ipynb)\n",
    " * [Making a list and checking it twice](http://localhost:8888/notebooks/Hour%202%20More%20on%20Lists.ipynb)\n",
    " * [More Flow Control](http://localhost:8888/notebooks/Hour%202%20Flow%20Control.ipynb)  \n",
    "  \n",
    "## Hour Five! Three sir. Three! - We write a module and get some practice  \n",
    "  \n",
    "### The ```import``` Statement  \n",
    " * import x  \n",
    " * import x.y  \n",
    " * from x import z (or from x.y import z)  \n",
    " * from x import * (or from x.y import *)  \n",
    "We will also talk about what the import statement actually does and where it finds all this nifty new functionality.  \n",
    "  \n",
    "### ```arcpy```\n",
    "Just what is [```arcpy```](http://desktop.arcgis.com/en/arcmap/10.3/analyze/arcpy/what-is-arcpy-.htm)?  \n",
    " * Often wraps ArcObjects  \n",
    " * Sometimes it is its own code  \n",
    " * What can you do?  \n",
    "   * Get started with converting models  \n",
    "   * Call toolboxes and automate your workflow  \n",
    "   * [Make maps! with arcpy.mapping](http://desktop.arcgis.com/en/arcmap/10.3/analyze/arcpy/what-is-arcpy-.htm)  \n",
    "   * [Read and write data with arcpy.da](http://desktop.arcgis.com/en/arcmap/10.3/analyze/arcpy-data-access/what-is-the-data-access-module-.htm)  \n",
    "   * [Do complex analysis with arcpy.sa](http://desktop.arcgis.com/en/arcmap/10.3/analyze/arcpy-spatial-analyst/what-is-the-spatial-analyst-module.htm)  \n",
    "  \n",
    "### [Defining Functions](http://localhost:8888/notebooks/Hour%203%20Defining%20Functions.ipynb)  \n",
    "  \n",
    "### [More on Scope](http://localhost:8888/notebooks/Hour%203%20Scope.ipynb)\n",
    "  \n",
    "### [We Write a module and explore the standard library](http://localhost:8888/notebooks/Hour%203%20We%20Write%20a%20Module.ipynb)  \n",
    "\n",
    "### When things go wrong  \n",
    " * [Syntax Errors](http://docs.python.org/2/tutorial/errors.html#syntax-errors)\n",
    " * [Exception](http://docs.python.org/2/tutorial/errors.html#exceptions)\n",
    " * [Handling Exceptions](http://docs.python.org/2/tutorial/errors.html#handling-exceptions)\n",
    "  \n",
    "## Hour Four - It's only a model.\n",
    " * [Data Structures](http://localhost:8888/notebooks/Hour%204%20More%20Data%20Structures.ipynb) (5.3-5.5)  \n",
    " * [```os``` module](http://docs.python.org/2/tutorial/stdlib.html#operating-system-interface) (10.1)  \n",
    " * [```datetime``` module](http://docs.python.org/2/tutorial/stdlib.html#dates-and-times) (10.8)  \n"
   ]
  },
  {
   "cell_type": "markdown",
   "metadata": {},
   "source": [
    "## The Zen of Python"
   ]
  },
  {
   "cell_type": "code",
   "execution_count": null,
   "metadata": {
    "collapsed": true
   },
   "outputs": [],
   "source": [
    "import this"
   ]
  }
 ],
 "metadata": {
  "kernelspec": {
   "display_name": "Python 2",
   "language": "python",
   "name": "python2"
  },
  "language_info": {
   "codemirror_mode": {
    "name": "ipython",
    "version": 2
   },
   "file_extension": ".py",
   "mimetype": "text/x-python",
   "name": "python",
   "nbconvert_exporter": "python",
   "pygments_lexer": "ipython2",
   "version": "2.7.11"
  }
 },
 "nbformat": 4,
 "nbformat_minor": 0
}
