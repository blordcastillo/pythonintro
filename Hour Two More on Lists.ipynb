{
 "cells": [
  {
   "cell_type": "markdown",
   "metadata": {},
   "source": [
    "# Hour Two More on Lists"
   ]
  },
  {
   "cell_type": "markdown",
   "metadata": {},
   "source": [
    "This is a quick summary of the most commmonly used functions for lists. (These are also called 'methods' because they are part of the ```list``` \"class\".)  \n",
    "  \n",
    "    list.append(x)\n",
    "Add an item to the end of the list.\n",
    "\n",
    "    list.extend(L)\n",
    "Extend the list by appending all the items in the given list.\n",
    "\n",
    "    list.insert(i, x)\n",
    "Insert an item x at position i. The first argument is the index of the element before which to insert, so ```a.insert(0, x)``` inserts at the front of the list, and ```a.insert(len(a), x)``` is equivalent to ```a.append(x)```.\n",
    "\n",
    "    list.remove(x)\n",
    "Remove the first item from the list whose value is x. You get an error if there is no such item.\n",
    "\n",
    "    list.pop(x)\n",
    "    list.pop()\n",
    "Remove the item at position i, and return it. If no index is specified, ```a.pop()``` removes and returns the last item in the list.\n",
    "\n",
    "    list.index(x)\n",
    "Return the index in the list of the first item whose value is x. It is an error if there is no such item.\n",
    "\n",
    "    list.count(x)\n",
    "Return the number of times x appears in the list.\n",
    "\n",
    "    list.sort(reverse=False)\n",
    "Sort the items of the list in place. If ```reverse``` is set to True, the list sorts backwards (the default is False and the list sorting forward). There are other options, known as 'keyword arguments' besides reverse if you need to do more complicated sorting.  \n",
    "\n",
    "    list.reverse()\n",
    "Reverse the elements of the list, in place.\n",
    "\n",
    "Try running there this example."
   ]
  },
  {
   "cell_type": "code",
   "execution_count": null,
   "metadata": {
    "collapsed": true
   },
   "outputs": [],
   "source": [
    "a = [66.25, 333, 333, 1, 1234.5]\n",
    "print a.count(333), a.count(66.25), a.count('x')"
   ]
  },
  {
   "cell_type": "code",
   "execution_count": null,
   "metadata": {
    "collapsed": true
   },
   "outputs": [],
   "source": [
    "a.insert(2, -1)\n",
    "a.append(333)\n",
    "a"
   ]
  },
  {
   "cell_type": "code",
   "execution_count": null,
   "metadata": {
    "collapsed": true
   },
   "outputs": [],
   "source": [
    "a.index(333)\n",
    "a.remove(333)\n",
    "a"
   ]
  },
  {
   "cell_type": "code",
   "execution_count": null,
   "metadata": {
    "collapsed": true
   },
   "outputs": [],
   "source": [
    "a.reverse()\n",
    "a"
   ]
  },
  {
   "cell_type": "code",
   "execution_count": null,
   "metadata": {
    "collapsed": true
   },
   "outputs": [],
   "source": [
    "a sort()\n",
    "a"
   ]
  },
  {
   "cell_type": "code",
   "execution_count": null,
   "metadata": {
    "collapsed": true
   },
   "outputs": [],
   "source": [
    "a.pop()\n",
    "a"
   ]
  },
  {
   "cell_type": "markdown",
   "metadata": {},
   "source": [
    "Done with Part Two!  \n",
    "How are we doing on time? Let's try to get in [Part Three](http://localhost:8888/notebooks/Hour%20Two%20Flow%20Control.ipynb)"
   ]
  },
  {
   "cell_type": "code",
   "execution_count": null,
   "metadata": {
    "collapsed": true
   },
   "outputs": [],
   "source": []
  }
 ],
 "metadata": {
  "kernelspec": {
   "display_name": "Python 2",
   "language": "python",
   "name": "python2"
  },
  "language_info": {
   "codemirror_mode": {
    "name": "ipython",
    "version": 2
   },
   "file_extension": ".py",
   "mimetype": "text/x-python",
   "name": "python",
   "nbconvert_exporter": "python",
   "pygments_lexer": "ipython2",
   "version": "2.7.11"
  }
 },
 "nbformat": 4,
 "nbformat_minor": 0
}
